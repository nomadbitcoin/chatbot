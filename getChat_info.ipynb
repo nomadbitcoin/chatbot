{
 "cells": [
  {
   "cell_type": "code",
   "execution_count": 1,
   "metadata": {},
   "outputs": [],
   "source": [
    "import bs4\n",
    "import time\n",
    "import platform\n",
    "from datetime import datetime"
   ]
  },
  {
   "cell_type": "code",
   "execution_count": 2,
   "metadata": {},
   "outputs": [],
   "source": [
    "import get_information"
   ]
  },
  {
   "cell_type": "code",
   "execution_count": 3,
   "metadata": {},
   "outputs": [],
   "source": [
    "from selenium import webdriver\n",
    "from selenium.webdriver.chrome.options import Options as ChromeOptions\n",
    "from selenium.webdriver.common.keys import Keys"
   ]
  },
  {
   "cell_type": "code",
   "execution_count": 4,
   "metadata": {},
   "outputs": [],
   "source": [
    "# INSTANCE BROWSER\n",
    "def openBrowser(business):\n",
    "    '''\n",
    "        Verifica qual o sistema operacional para que use o driver e diretorio de usuarios certo\n",
    "    '''\n",
    "    \n",
    "    if platform.system() == 'Linux':\n",
    "        driver_path = './webdriver/linux/chromedriver'\n",
    "        profile_path = '/home/nomadbitcoin/whatsapp_profiles/' + business \n",
    "    elif platform.system() == 'Windows':\n",
    "        path = './webdriver/win/chromedriver.exe'\n",
    "        profile_path = 'Need Implement'\n",
    "    \n",
    "    \n",
    "    global driver\n",
    "    try:\n",
    "        options = webdriver.ChromeOptions()\n",
    "        # open with saved informations in cache\n",
    "        options.add_argument(\"profile\")\n",
    "        options.add_argument(\"user-data-dir=\" + profile_path)\n",
    "        driver = webdriver.Chrome(options=options, executable_path=driver_path)\n",
    "#         driver.implicitly_wait(5) #tempo implicito de espera 1 segundo antes de cada acao\n",
    "        main_url = 'https://web.whatsapp.com/'\n",
    "        driver.get(main_url)\n",
    "        if wait_connection(driver):\n",
    "            return True, 'opened in: {}'.format(main_url)\n",
    "    except Exception as error:\n",
    "        print(type(error), error)\n",
    "        return False\n",
    "    \n",
    "# PARA LIBERAR SOMENTE APOS TER ABERTO O WHATSAPP\n",
    "def wait_connection(driver):\n",
    "    waiting = True\n",
    "    while waiting:\n",
    "        try:\n",
    "            if driver.find_element_by_class_name('Qk8nZ').text == 'Keep your phone connected':\n",
    "                waiting = False\n",
    "                return True\n",
    "                break\n",
    "#             elif driver.find_element_by_class_name('_13HPh').text == 'Computer not connected':\n",
    "#                 waiting = False\n",
    "#                 return False, 'Computer not connected'\n",
    "        except KeyboardInterrupt:\n",
    "            waiting = False\n",
    "            return False\n",
    "        except:\n",
    "            time.sleep(10)\n",
    "            pass"
   ]
  },
  {
   "cell_type": "code",
   "execution_count": 5,
   "metadata": {},
   "outputs": [
    {
     "data": {
      "text/plain": [
       "(True, 'opened in: https://web.whatsapp.com/')"
      ]
     },
     "execution_count": 5,
     "metadata": {},
     "output_type": "execute_result"
    }
   ],
   "source": [
    "openBrowser('nomadbitcoin')"
   ]
  },
  {
   "cell_type": "code",
   "execution_count": 6,
   "metadata": {},
   "outputs": [],
   "source": [
    "gdata = get_information.get_Data(driver)"
   ]
  },
  {
   "cell_type": "code",
   "execution_count": 7,
   "metadata": {},
   "outputs": [],
   "source": [
    "chats = gdata.getChats()"
   ]
  },
  {
   "cell_type": "code",
   "execution_count": null,
   "metadata": {},
   "outputs": [],
   "source": []
  },
  {
   "cell_type": "code",
   "execution_count": 8,
   "metadata": {},
   "outputs": [],
   "source": [
    "def getPageSource():\n",
    "    global htmlPage\n",
    "    htmlPage = gdata.getPageSource(True)"
   ]
  },
  {
   "cell_type": "code",
   "execution_count": 16,
   "metadata": {},
   "outputs": [
    {
     "name": "stdout",
     "output_type": "stream",
     "text": [
      "link\n"
     ]
    }
   ],
   "source": [
    "messages = gdata.slc_get_messages()\n",
    "time.sleep(1)\n",
    "print(gdata.msg_type_content(messages[-1]))"
   ]
  },
  {
   "cell_type": "code",
   "execution_count": null,
   "metadata": {},
   "outputs": [],
   "source": []
  },
  {
   "cell_type": "code",
   "execution_count": null,
   "metadata": {},
   "outputs": [],
   "source": []
  },
  {
   "cell_type": "code",
   "execution_count": null,
   "metadata": {},
   "outputs": [],
   "source": []
  },
  {
   "cell_type": "code",
   "execution_count": null,
   "metadata": {},
   "outputs": [],
   "source": [
    "def slc_get_last_msg():\n",
    "    '''\n",
    "        Pega a ultima mensagem do historico, o tipo do conteudo, horario e status\n",
    "    '''\n",
    "    getPageSource()\n",
    "    messages = gdata.slc_get_messages()\n",
    "    msg_time = gdata.getTime(messages[-1], 'message')\n",
    "    return messages[-1]"
   ]
  },
  {
   "cell_type": "code",
   "execution_count": null,
   "metadata": {},
   "outputs": [],
   "source": [
    "slc_get_last_msg()"
   ]
  }
 ],
 "metadata": {
  "kernelspec": {
   "display_name": "Python 3",
   "language": "python",
   "name": "python3"
  },
  "language_info": {
   "codemirror_mode": {
    "name": "ipython",
    "version": 3
   },
   "file_extension": ".py",
   "mimetype": "text/x-python",
   "name": "python",
   "nbconvert_exporter": "python",
   "pygments_lexer": "ipython3",
   "version": "3.5.3"
  }
 },
 "nbformat": 4,
 "nbformat_minor": 2
}
