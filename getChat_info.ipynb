{
 "cells": [
  {
   "cell_type": "code",
   "execution_count": 1,
   "metadata": {},
   "outputs": [],
   "source": [
    "import bs4\n",
    "import time\n",
    "import platform\n",
    "from datetime import datetime"
   ]
  },
  {
   "cell_type": "code",
   "execution_count": 2,
   "metadata": {},
   "outputs": [],
   "source": [
    "import get_information"
   ]
  },
  {
   "cell_type": "code",
   "execution_count": 3,
   "metadata": {},
   "outputs": [],
   "source": [
    "from selenium import webdriver\n",
    "from selenium.webdriver.chrome.options import Options as ChromeOptions\n",
    "from selenium.webdriver.common.keys import Keys"
   ]
  },
  {
   "cell_type": "code",
   "execution_count": 4,
   "metadata": {},
   "outputs": [],
   "source": [
    "# INSTANCE BROWSER\n",
    "def openBrowser(business):\n",
    "    '''\n",
    "        Verifica qual o sistema operacional para que use o driver e diretorio de usuarios certo\n",
    "    '''\n",
    "    \n",
    "    if platform.system() == 'Linux':\n",
    "        driver_path = './webdriver/linux/chromedriver'\n",
    "        profile_path = '/home/nomadbitcoin/whatsapp_profiles/' + business \n",
    "    elif platform.system() == 'Windows':\n",
    "        path = './webdriver/win/chromedriver.exe'\n",
    "        profile_path = 'Need Implement'\n",
    "    \n",
    "    \n",
    "    global driver\n",
    "    try:\n",
    "        options = webdriver.ChromeOptions()\n",
    "        # open with saved informations in cache\n",
    "        options.add_argument(\"profile\")\n",
    "        options.add_argument(\"user-data-dir=\" + profile_path)\n",
    "        driver = webdriver.Chrome(options=options, executable_path=driver_path)\n",
    "#         driver.implicitly_wait(5) #tempo implicito de espera 1 segundo antes de cada acao\n",
    "        main_url = 'https://web.whatsapp.com/'\n",
    "        driver.get(main_url)\n",
    "        if wait_connection(driver):\n",
    "            return True, 'opened in: {}'.format(main_url)\n",
    "    except Exception as error:\n",
    "        print(type(error), error)\n",
    "        return False\n",
    "    \n",
    "# PARA LIBERAR SOMENTE APOS TER ABERTO O WHATSAPP\n",
    "def wait_connection(driver):\n",
    "    waiting = True\n",
    "    while waiting:\n",
    "        try:\n",
    "            if driver.find_element_by_class_name('Qk8nZ').text == 'Keep your phone connected':\n",
    "                waiting = False\n",
    "                return True\n",
    "                break\n",
    "        except:\n",
    "            time.sleep(10)\n",
    "            pass"
   ]
  },
  {
   "cell_type": "code",
   "execution_count": 5,
   "metadata": {},
   "outputs": [
    {
     "data": {
      "text/plain": [
       "(True, 'opened in: https://web.whatsapp.com/')"
      ]
     },
     "execution_count": 5,
     "metadata": {},
     "output_type": "execute_result"
    }
   ],
   "source": [
    "openBrowser('nomadbitcoin')"
   ]
  },
  {
   "cell_type": "code",
   "execution_count": 6,
   "metadata": {},
   "outputs": [],
   "source": [
    "gdata = get_information.get_Data(driver)"
   ]
  },
  {
   "cell_type": "code",
   "execution_count": 11,
   "metadata": {},
   "outputs": [],
   "source": [
    "chats = gdata.getChats()"
   ]
  },
  {
   "cell_type": "code",
   "execution_count": null,
   "metadata": {},
   "outputs": [],
   "source": []
  },
  {
   "cell_type": "code",
   "execution_count": 39,
   "metadata": {},
   "outputs": [],
   "source": [
    "def getPageSource():\n",
    "    global htmlPage\n",
    "    htmlPage = gdata.getPageSource(True)"
   ]
  },
  {
   "cell_type": "code",
   "execution_count": 41,
   "metadata": {},
   "outputs": [],
   "source": [
    "def slc_get_messages():\n",
    "    '''\n",
    "        Pega o historico de mensagens que esta carregada no documento\n",
    "    '''\n",
    "    getPageSource()\n",
    "    try:\n",
    "        messages = htmlPage.find_all('div',{'class':'FTBzM'})\n",
    "        assert messages != [], 'Not Chat Selected'\n",
    "        return messages\n",
    "    except Exception as error:\n",
    "        print(error)\n",
    "        pass"
   ]
  },
  {
   "cell_type": "code",
   "execution_count": 124,
   "metadata": {},
   "outputs": [],
   "source": [
    "def msg_type_content(message):\n",
    "    '''\n",
    "        Recebe uma mensagem e verifica qual o formato do conteudo: \n",
    "            *texto, audio, imagem, video, link, documento, localizacao ou contato\n",
    "    '''\n",
    "    getPageSource()\n",
    "    \n",
    "    if message.find('span',{'data-icon':'audio-play'}) != None:\n",
    "        msg_type = 'audio'\n",
    "    elif message.find('div',{'class':'_1o0MN'}) != None: #testar para outros tipos de documentos\n",
    "        msg_type = 'document'\n",
    "    elif message.find('img') != None:\n",
    "        msg_type = 'image'\n",
    "    elif message.find('a') != None:\n",
    "        msg_type = 'link'\n",
    "    elif message.find('span',{'data-icon':'msg-video-light'}) != None:\n",
    "        msg_type = 'video'\n",
    "    else:\n",
    "        msg_type = 'text'\n",
    "    return msg_type"
   ]
  },
  {
   "cell_type": "code",
   "execution_count": 132,
   "metadata": {},
   "outputs": [
    {
     "data": {
      "text/plain": [
       "'audio'"
      ]
     },
     "execution_count": 132,
     "metadata": {},
     "output_type": "execute_result"
    }
   ],
   "source": [
    "messages = slc_get_messages()\n",
    "time.sleep(1)\n",
    "msg_type_content(messages[-1])"
   ]
  },
  {
   "cell_type": "code",
   "execution_count": 112,
   "metadata": {},
   "outputs": [
    {
     "data": {
      "text/plain": [
       "<span class=\"\" data-icon=\"msg-video-light\"><svg height=\"14\" viewbox=\"0 0 16 14\" width=\"16\" xmlns=\"http://www.w3.org/2000/svg\"><path d=\"M14.987 2.668l-3.48 3.091v-2.27c0-.657-.532-1.189-1.189-1.189H1.689C1.032 2.3.5 2.832.5 3.489v7.138c0 .657.532 1.189 1.189 1.189h8.629c.657 0 1.189-.532 1.189-1.189V8.328l3.48 3.09v-8.75z\" fill=\"#FFF\"></path></svg></span>"
      ]
     },
     "execution_count": 112,
     "metadata": {},
     "output_type": "execute_result"
    }
   ],
   "source": []
  },
  {
   "cell_type": "code",
   "execution_count": 43,
   "metadata": {},
   "outputs": [],
   "source": [
    "def slc_get_last_msg():\n",
    "    '''\n",
    "        Pega a ultima mensagem do historico, o tipo do conteudo, horario e status\n",
    "    '''\n",
    "    getPageSource()\n",
    "    messages = slc_get_messages()\n",
    "    msg_time = gdata.getTime(messages[-1], 'message')\n",
    "    return messages[-1]"
   ]
  },
  {
   "cell_type": "code",
   "execution_count": 115,
   "metadata": {},
   "outputs": [],
   "source": []
  },
  {
   "cell_type": "code",
   "execution_count": null,
   "metadata": {},
   "outputs": [],
   "source": []
  },
  {
   "cell_type": "code",
   "execution_count": null,
   "metadata": {},
   "outputs": [],
   "source": []
  },
  {
   "cell_type": "code",
   "execution_count": 31,
   "metadata": {},
   "outputs": [],
   "source": []
  },
  {
   "cell_type": "code",
   "execution_count": null,
   "metadata": {},
   "outputs": [],
   "source": []
  }
 ],
 "metadata": {
  "kernelspec": {
   "display_name": "Python 3",
   "language": "python",
   "name": "python3"
  },
  "language_info": {
   "codemirror_mode": {
    "name": "ipython",
    "version": 3
   },
   "file_extension": ".py",
   "mimetype": "text/x-python",
   "name": "python",
   "nbconvert_exporter": "python",
   "pygments_lexer": "ipython3",
   "version": "3.5.3"
  }
 },
 "nbformat": 4,
 "nbformat_minor": 2
}
