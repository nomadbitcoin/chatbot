{
 "cells": [
  {
   "cell_type": "code",
   "execution_count": 33,
   "metadata": {},
   "outputs": [],
   "source": [
    "import bs4\n",
    "from datetime import datetime"
   ]
  },
  {
   "cell_type": "code",
   "execution_count": 2,
   "metadata": {},
   "outputs": [],
   "source": [
    "from selenium import webdriver\n",
    "from selenium.webdriver.chrome.options import Options as ChromeOptions\n",
    "from selenium.webdriver.common.keys import Keys"
   ]
  },
  {
   "cell_type": "code",
   "execution_count": 18,
   "metadata": {},
   "outputs": [],
   "source": [
    "def openBrowser(business, headless=False):\n",
    "    global driver\n",
    "    try:\n",
    "        options = webdriver.ChromeOptions()\n",
    "        options.add_argument('profile')\n",
    "        options.add_argument('user-data-dir=./profiles/' + business)\n",
    "        \n",
    "        if headless == True:\n",
    "            options.add_argument('headless')\n",
    "            options.add_argument('--window-size-1920x1080')\n",
    "            \n",
    "        mainUrl = 'https://web.whatsapp.com/'\n",
    "        driver = webdriver.Chrome(options=options, executable_path='./webdriver/win/chromedriver.exe')\n",
    "        driver.get(mainUrl)\n",
    "        return True\n",
    "    except Exception as error:\n",
    "        print('Error ocurred in OpenBrowser: {} {}'.format(type(error), error))\n",
    "        return False"
   ]
  },
  {
   "cell_type": "code",
   "execution_count": 112,
   "metadata": {},
   "outputs": [],
   "source": [
    "# FUNCOES PEQUENAS PARA NAO PRECISAR REPETIR CODIGO\n",
    "def getNow():\n",
    "    '''\n",
    "        Funcao para retornar tempo e data atual formatado\n",
    "    '''\n",
    "    return datetime.now().strftime('%d/%m/%y %H:%M:%S')\n",
    "\n",
    "def getPageSource():\n",
    "    global htmlPage\n",
    "    htmlPage = bs4.BeautifulSoup(driver.page_source, features='html.parser')\n",
    "    return True, 'Atualiazdo'"
   ]
  },
  {
   "cell_type": "code",
   "execution_count": 44,
   "metadata": {},
   "outputs": [],
   "source": [
    "# VERIFICA SE O WHATSAPP ESTA CONECTADO \n",
    "def verifyConnection():\n",
    "    '''\n",
    "        Verifica se a div alerta existe e qual o seu conteudo, se for 'Phone not connected' retorna False,\n",
    "        caso contrario retorna True para conectado.\n",
    "    '''\n",
    "    \n",
    "    htmlPage = bs4.BeautifulSoup(driver.page_source, features='html.parser')\n",
    "    try:\n",
    "        span_alert = htmlPage.find('span',{'class':'_3O0po'})\n",
    "        text_alert = span_alert.find('div',{'class':'_28Bny'}).text\n",
    "        if text_alert == 'Phone not connected':\n",
    "            return False\n",
    "        else:\n",
    "            return True\n",
    "    except Exception as error:\n",
    "        do = verifyError('verifyConnection', error, getNow())"
   ]
  },
  {
   "cell_type": "code",
   "execution_count": 113,
   "metadata": {},
   "outputs": [],
   "source": [
    "def getChats():\n",
    "    '''\n",
    "        Pega as conversas que estao carregadas no documento atual (posicao do cursos na pagina)\n",
    "    '''\n",
    "    getPageSource() #atualiza o pagesource em HtmlPage\n",
    "    chats = htmlPage.find_all('div',{'class':'X7YrQ'})\n",
    "    return chats"
   ]
  },
  {
   "cell_type": "code",
   "execution_count": 141,
   "metadata": {},
   "outputs": [],
   "source": [
    "# FUNCOES QUE IRAO PEGAR INFORMACOES DE CADA CHAT\n",
    "def getChatName(chat):\n",
    "    '''\n",
    "        Recebe a div completa de cada chat da lista e ira retornar o \"titulo\"/ nome da conversa \n",
    "        (titulo para caso nao esteja salvo o contato)\n",
    "    '''\n",
    "    try:\n",
    "        contact_name = chat.find('div', {'class':'_3H4MS'}).text\n",
    "        assert contact_name != '', 'Algum erro ou Sem Nome de Contato'\n",
    "        return contact_name\n",
    "    except Exception as error:\n",
    "        do = verifyError('getChatName', error, getNow())\n",
    "        \n",
    "def getLabel(chat):\n",
    "    '''\n",
    "        Recebe um chat e verifica se ha algum label nele, se ha ira retornar o qual label foi encontrado\n",
    "    \n",
    "        # TODO: Verificar no banco o que cada label significa para a empresa em questao\n",
    "    '''\n",
    "    try:\n",
    "        label = chat.find('div',{'class':'yKiIK'})\n",
    "        label = label.find('path').get('fill')\n",
    "        return label\n",
    "    except Exception as error:\n",
    "        do = verifyError('getLabel', error, getNow())\n",
    "        pass\n",
    "\n",
    "def isGroup(chat):\n",
    "    '''\n",
    "        Rececebe um chat e verifica se eh um grupo\n",
    "    \n",
    "        Quado eh grupo nao tera uma div especifica, entao retornara False\n",
    "    '''\n",
    "    try:\n",
    "        div_contact = chat.find('span',{'class':'_3NWy8'})\n",
    "        return True if div_contact == None else False\n",
    "    except Exception as error:\n",
    "        do = verifyError('isGroup', error, getNow())\n",
    "        pass"
   ]
  },
  {
   "cell_type": "code",
   "execution_count": 246,
   "metadata": {},
   "outputs": [],
   "source": [
    "# FUNCOES PRA TRATAR O TEMPO E STATUS DAS MENSAGENS, VIA CHAT OU HISTORICO\n",
    "def getTime(content, chat_or_message):\n",
    "    '''\n",
    "        Recebe um chat ou uma mensagem e ira devolver o tempo da mensagem,\n",
    "        se for um chat ira retornar o horario da ultima mensagem enviada ou recebida,\n",
    "        se for mensagem ira retornar o time da mensagem\n",
    "    '''\n",
    "    # TODO: inserir tratamento de horario para dias da semana e para formatos de horarios diferentes\n",
    "    try:\n",
    "        if chat_or_message == 'chat':\n",
    "            time = content.find('div',{'class':'_0LqQ'}).text\n",
    "            return time\n",
    "        elif chat_or_message == 'message':\n",
    "            return 'need implementation'\n",
    "        else:\n",
    "            return 'content need to be chat or message'\n",
    "    except Exception as error:\n",
    "        do = verifyError('getTime', error, getNow())\n",
    "        pass\n",
    "\n",
    "def getMsgStatus(content, chat_or_message):\n",
    "    '''\n",
    "        Recebe uma mensagem de chat ou do historico e retorna seu status,\n",
    "        se for mensagem enviada ira retornar se foi somente enviada, entregue ou recebida,\n",
    "        se for recebida ira retornar \"received\"\n",
    "    '''\n",
    "    try:\n",
    "        if chat_or_message == 'chat':\n",
    "            status_label = chat.find('div',{'class':'_3VIru'})\n",
    "            return 'Received' if status_label == None else 'Sent'\n",
    "        elif chat_or_message == 'message':\n",
    "            return 'need implementation'\n",
    "    except Exception as error:\n",
    "        do = verifyError('getMsgStatus', error, getNow())\n",
    "        pass"
   ]
  },
  {
   "cell_type": "code",
   "execution_count": 244,
   "metadata": {},
   "outputs": [],
   "source": [
    "chats = getChats()"
   ]
  },
  {
   "cell_type": "code",
   "execution_count": 245,
   "metadata": {},
   "outputs": [
    {
     "name": "stdout",
     "output_type": "stream",
     "text": [
      "0 Data Science LIVRE Received 9:59 PM\n",
      "1 Save Save Save Sent yesterday\n",
      "2 Mae Received yesterday\n",
      "3 Gabriel Zatorski Received yesterday\n",
      "4 Daniel Saulo Bitcoins Sent 4:51 AM\n",
      "5 PyNerds  Received 7:38 PM\n",
      "6 +55 47 9616-6553 Received 1:25 PM\n",
      "7 Xaropes Received 10:08 PM\n",
      "8 33 Sushi House Received yesterday\n",
      "9 Data Science Talk Received 3:42 PM\n",
      "10 Cueca Rodrigo Santana Received 1:41 PM\n",
      "11 Programação em Python Sent 9:40 PM\n",
      "12 Andrew Brasil Advocacia Balneario Received 10:00 PM\n",
      "13 Carmen Mae Gui Sent 6:46 PM\n",
      "14 Guilherme Kussler Received 7:36 PM\n",
      "15 Nycolas Machado Sent 1:53 PM\n",
      "16 Helen Sent 6:19 PM\n"
     ]
    }
   ],
   "source": [
    "for pos, chat in enumerate(chats):\n",
    "    print(pos, getChatName(chat), getMsgStatus(chat, 'chat'), getTime(chat, 'chat'))"
   ]
  },
  {
   "cell_type": "code",
   "execution_count": 143,
   "metadata": {},
   "outputs": [],
   "source": [
    "# FUNCAO DE VERIFICACAO DE ERROS\n",
    "def verifyError(where, error, when):\n",
    "    '''\n",
    "        Verificacao de erros e excecoes \n",
    "    '''\n",
    "    pass\n",
    "#     print('Error ocurred in {} at {}: {} {}'.format(where, when, type(error), error))"
   ]
  },
  {
   "cell_type": "code",
   "execution_count": null,
   "metadata": {},
   "outputs": [],
   "source": [
    "openBrowser('nomadbitcoin')"
   ]
  }
 ],
 "metadata": {
  "kernelspec": {
   "display_name": "Python 3",
   "language": "python",
   "name": "python3"
  },
  "language_info": {
   "codemirror_mode": {
    "name": "ipython",
    "version": 3
   },
   "file_extension": ".py",
   "mimetype": "text/x-python",
   "name": "python",
   "nbconvert_exporter": "python",
   "pygments_lexer": "ipython3",
   "version": "3.7.3"
  }
 },
 "nbformat": 4,
 "nbformat_minor": 2
}
